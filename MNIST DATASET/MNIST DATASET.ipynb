{
 "cells": [
  {
   "cell_type": "code",
   "execution_count": 16,
   "id": "313f96fb",
   "metadata": {},
   "outputs": [],
   "source": [
    "import tensorflow\n",
    "from tensorflow import keras\n",
    "from tensorflow.keras import Sequential\n",
    "from tensorflow.keras.layers import Dense,Flatten"
   ]
  },
  {
   "cell_type": "code",
   "execution_count": 3,
   "id": "aba54610",
   "metadata": {},
   "outputs": [
    {
     "name": "stdout",
     "output_type": "stream",
     "text": [
      "Downloading data from https://storage.googleapis.com/tensorflow/tf-keras-datasets/mnist.npz\n",
      "11490434/11490434 [==============================] - 3s 0us/step\n"
     ]
    }
   ],
   "source": [
    "(X_train,Y_train),(X_test,Y_test)=keras.datasets.mnist.load_data()"
   ]
  },
  {
   "cell_type": "code",
   "execution_count": 7,
   "id": "b649c6e5",
   "metadata": {},
   "outputs": [
    {
     "data": {
      "text/plain": [
       "(60000, 28, 28)"
      ]
     },
     "execution_count": 7,
     "metadata": {},
     "output_type": "execute_result"
    }
   ],
   "source": [
    "X_train.shape"
   ]
  },
  {
   "cell_type": "code",
   "execution_count": 8,
   "id": "a960080e",
   "metadata": {},
   "outputs": [
    {
     "data": {
      "text/plain": [
       "array([[  0,   0,   0,   0,   0,   0,   0,   0,   0,   0,   0,   0,   0,\n",
       "          0,   0,   0,   0,   0,   0,   0,   0,   0,   0,   0,   0,   0,\n",
       "          0,   0],\n",
       "       [  0,   0,   0,   0,   0,   0,   0,   0,   0,   0,   0,   0,   0,\n",
       "          0,   0,   0,   0,   0,   0,   0,   0,   0,   0,   0,   0,   0,\n",
       "          0,   0],\n",
       "       [  0,   0,   0,   0,   0,   0,   0,   0,   0,   0,   0,   0,   0,\n",
       "          0,   0,   0,   0,   0,   0,   0,   0,   0,   0,   0,   0,   0,\n",
       "          0,   0],\n",
       "       [  0,   0,   0,   0,   0,   0,   0,   0,   0,   0,   0,   0,   0,\n",
       "          0,   0,   0,   0,   0,   0,   0,   0,   0,   0,   0,   0,   0,\n",
       "          0,   0],\n",
       "       [  0,   0,   0,   0,   0,   0,   0,   0,   0,   0,   0,   0,   0,\n",
       "          0,   0,   0,   0,   0,   0,   0,   0,   0,   0,   0,   0,   0,\n",
       "          0,   0],\n",
       "       [  0,   0,   0,   0,   0,   0,   0,   0,   0,   0,   0,   0,   3,\n",
       "         18,  18,  18, 126, 136, 175,  26, 166, 255, 247, 127,   0,   0,\n",
       "          0,   0],\n",
       "       [  0,   0,   0,   0,   0,   0,   0,   0,  30,  36,  94, 154, 170,\n",
       "        253, 253, 253, 253, 253, 225, 172, 253, 242, 195,  64,   0,   0,\n",
       "          0,   0],\n",
       "       [  0,   0,   0,   0,   0,   0,   0,  49, 238, 253, 253, 253, 253,\n",
       "        253, 253, 253, 253, 251,  93,  82,  82,  56,  39,   0,   0,   0,\n",
       "          0,   0],\n",
       "       [  0,   0,   0,   0,   0,   0,   0,  18, 219, 253, 253, 253, 253,\n",
       "        253, 198, 182, 247, 241,   0,   0,   0,   0,   0,   0,   0,   0,\n",
       "          0,   0],\n",
       "       [  0,   0,   0,   0,   0,   0,   0,   0,  80, 156, 107, 253, 253,\n",
       "        205,  11,   0,  43, 154,   0,   0,   0,   0,   0,   0,   0,   0,\n",
       "          0,   0],\n",
       "       [  0,   0,   0,   0,   0,   0,   0,   0,   0,  14,   1, 154, 253,\n",
       "         90,   0,   0,   0,   0,   0,   0,   0,   0,   0,   0,   0,   0,\n",
       "          0,   0],\n",
       "       [  0,   0,   0,   0,   0,   0,   0,   0,   0,   0,   0, 139, 253,\n",
       "        190,   2,   0,   0,   0,   0,   0,   0,   0,   0,   0,   0,   0,\n",
       "          0,   0],\n",
       "       [  0,   0,   0,   0,   0,   0,   0,   0,   0,   0,   0,  11, 190,\n",
       "        253,  70,   0,   0,   0,   0,   0,   0,   0,   0,   0,   0,   0,\n",
       "          0,   0],\n",
       "       [  0,   0,   0,   0,   0,   0,   0,   0,   0,   0,   0,   0,  35,\n",
       "        241, 225, 160, 108,   1,   0,   0,   0,   0,   0,   0,   0,   0,\n",
       "          0,   0],\n",
       "       [  0,   0,   0,   0,   0,   0,   0,   0,   0,   0,   0,   0,   0,\n",
       "         81, 240, 253, 253, 119,  25,   0,   0,   0,   0,   0,   0,   0,\n",
       "          0,   0],\n",
       "       [  0,   0,   0,   0,   0,   0,   0,   0,   0,   0,   0,   0,   0,\n",
       "          0,  45, 186, 253, 253, 150,  27,   0,   0,   0,   0,   0,   0,\n",
       "          0,   0],\n",
       "       [  0,   0,   0,   0,   0,   0,   0,   0,   0,   0,   0,   0,   0,\n",
       "          0,   0,  16,  93, 252, 253, 187,   0,   0,   0,   0,   0,   0,\n",
       "          0,   0],\n",
       "       [  0,   0,   0,   0,   0,   0,   0,   0,   0,   0,   0,   0,   0,\n",
       "          0,   0,   0,   0, 249, 253, 249,  64,   0,   0,   0,   0,   0,\n",
       "          0,   0],\n",
       "       [  0,   0,   0,   0,   0,   0,   0,   0,   0,   0,   0,   0,   0,\n",
       "          0,  46, 130, 183, 253, 253, 207,   2,   0,   0,   0,   0,   0,\n",
       "          0,   0],\n",
       "       [  0,   0,   0,   0,   0,   0,   0,   0,   0,   0,   0,   0,  39,\n",
       "        148, 229, 253, 253, 253, 250, 182,   0,   0,   0,   0,   0,   0,\n",
       "          0,   0],\n",
       "       [  0,   0,   0,   0,   0,   0,   0,   0,   0,   0,  24, 114, 221,\n",
       "        253, 253, 253, 253, 201,  78,   0,   0,   0,   0,   0,   0,   0,\n",
       "          0,   0],\n",
       "       [  0,   0,   0,   0,   0,   0,   0,   0,  23,  66, 213, 253, 253,\n",
       "        253, 253, 198,  81,   2,   0,   0,   0,   0,   0,   0,   0,   0,\n",
       "          0,   0],\n",
       "       [  0,   0,   0,   0,   0,   0,  18, 171, 219, 253, 253, 253, 253,\n",
       "        195,  80,   9,   0,   0,   0,   0,   0,   0,   0,   0,   0,   0,\n",
       "          0,   0],\n",
       "       [  0,   0,   0,   0,  55, 172, 226, 253, 253, 253, 253, 244, 133,\n",
       "         11,   0,   0,   0,   0,   0,   0,   0,   0,   0,   0,   0,   0,\n",
       "          0,   0],\n",
       "       [  0,   0,   0,   0, 136, 253, 253, 253, 212, 135, 132,  16,   0,\n",
       "          0,   0,   0,   0,   0,   0,   0,   0,   0,   0,   0,   0,   0,\n",
       "          0,   0],\n",
       "       [  0,   0,   0,   0,   0,   0,   0,   0,   0,   0,   0,   0,   0,\n",
       "          0,   0,   0,   0,   0,   0,   0,   0,   0,   0,   0,   0,   0,\n",
       "          0,   0],\n",
       "       [  0,   0,   0,   0,   0,   0,   0,   0,   0,   0,   0,   0,   0,\n",
       "          0,   0,   0,   0,   0,   0,   0,   0,   0,   0,   0,   0,   0,\n",
       "          0,   0],\n",
       "       [  0,   0,   0,   0,   0,   0,   0,   0,   0,   0,   0,   0,   0,\n",
       "          0,   0,   0,   0,   0,   0,   0,   0,   0,   0,   0,   0,   0,\n",
       "          0,   0]], dtype=uint8)"
      ]
     },
     "execution_count": 8,
     "metadata": {},
     "output_type": "execute_result"
    }
   ],
   "source": [
    "X_train[0]"
   ]
  },
  {
   "cell_type": "code",
   "execution_count": 12,
   "id": "862fb9d1",
   "metadata": {},
   "outputs": [
    {
     "data": {
      "text/plain": [
       "<matplotlib.image.AxesImage at 0x2316df4bd50>"
      ]
     },
     "execution_count": 12,
     "metadata": {},
     "output_type": "execute_result"
    },
    {
     "data": {
      "image/png": "[encoded data removed]",
      "text/plain": [
       "<Figure size 640x480 with 1 Axes>"
      ]
     },
     "metadata": {},
     "output_type": "display_data"
    }
   ],
   "source": [
    "import matplotlib.pyplot  as plt\n",
    "plt.imshow(X_train[0])\n"
   ]
  },
  {
   "cell_type": "code",
   "execution_count": null,
   "id": "5f54e62e",
   "metadata": {},
   "outputs": [],
   "source": [
    "#Scaling"
   ]
  },
  {
   "cell_type": "markdown",
   "id": "b45d11c5",
   "metadata": {},
   "source": [
    "The data contains in total 70,000 images and each image is of size 28*28"
   ]
  },
  {
   "cell_type": "markdown",
   "id": "246adc88",
   "metadata": {},
   "source": [
    "We need to scale the data .\n",
    "Since each element is made of colors between 0-255 RGB values, we can scale it by dividing it by 255"
   ]
  },
  {
   "cell_type": "code",
   "execution_count": 13,
   "id": "ba110453",
   "metadata": {},
   "outputs": [],
   "source": [
    "X_train_scaled=X_train/255\n",
    "X_test_scaled=X_test/255"
   ]
  },
  {
   "cell_type": "code",
   "execution_count": 21,
   "id": "38e84677",
   "metadata": {},
   "outputs": [],
   "source": [
    "import numpy as np"
   ]
  },
  {
   "cell_type": "code",
   "execution_count": 24,
   "id": "d5cb0f9e",
   "metadata": {},
   "outputs": [],
   "source": [
    "model=Sequential()\n",
    "model.add(Flatten(input_shape=(28,28)))\n",
    "model.add(Dense(128,activation=\"relu\"))\n",
    "model.add(Dense(10,activation=\"softmax\"))"
   ]
  },
  {
   "cell_type": "code",
   "execution_count": 25,
   "id": "774d9734",
   "metadata": {},
   "outputs": [
    {
     "name": "stdout",
     "output_type": "stream",
     "text": [
      "Model: \"sequential\"\n",
      "_________________________________________________________________\n",
      " Layer (type)                Output Shape              Param #   \n",
      "=================================================================\n",
      " flatten_1 (Flatten)         (None, 784)               0         \n",
      "                                                                 \n",
      " dense (Dense)               (None, 128)               100480    \n",
      "                                                                 \n",
      " dense_1 (Dense)             (None, 10)                1290      \n",
      "                                                                 \n",
      "=================================================================\n",
      "Total params: 101770 (397.54 KB)\n",
      "Trainable params: 101770 (397.54 KB)\n",
      "Non-trainable params: 0 (0.00 Byte)\n",
      "_________________________________________________________________\n"
     ]
    }
   ],
   "source": [
    "model.summary()"
   ]
  },
  {
   "cell_type": "code",
   "execution_count": 28,
   "id": "f7d457d1",
   "metadata": {},
   "outputs": [],
   "source": [
    "model.compile(loss=\"sparse_categorical_crossentropy\",optimizer=\"Adam\",metrics=[\"accuracy\"])"
   ]
  },
  {
   "cell_type": "code",
   "execution_count": 38,
   "id": "771ae696",
   "metadata": {},
   "outputs": [
    {
     "name": "stdout",
     "output_type": "stream",
     "text": [
      "Epoch 1/100\n",
      "1500/1500 [==============================] - 2s 1ms/step - loss: 0.0023 - accuracy: 0.9993 - val_loss: 0.2956 - val_accuracy: 0.9732\n",
      "Epoch 2/100\n",
      "1500/1500 [==============================] - 2s 1ms/step - loss: 0.0025 - accuracy: 0.9991 - val_loss: 0.2761 - val_accuracy: 0.9747\n",
      "Epoch 3/100\n",
      "1500/1500 [==============================] - 2s 1ms/step - loss: 0.0014 - accuracy: 0.9997 - val_loss: 0.2674 - val_accuracy: 0.9763\n",
      "Epoch 4/100\n",
      "1500/1500 [==============================] - 2s 1ms/step - loss: 0.0013 - accuracy: 0.9996 - val_loss: 0.2710 - val_accuracy: 0.9757\n",
      "Epoch 5/100\n",
      "1500/1500 [==============================] - 2s 1ms/step - loss: 0.0029 - accuracy: 0.9992 - val_loss: 0.3074 - val_accuracy: 0.9738\n",
      "Epoch 6/100\n",
      "1500/1500 [==============================] - 2s 1ms/step - loss: 2.3528e-04 - accuracy: 0.9999 - val_loss: 0.2744 - val_accuracy: 0.9768\n",
      "Epoch 7/100\n",
      "1500/1500 [==============================] - 2s 1ms/step - loss: 0.0037 - accuracy: 0.9990 - val_loss: 0.2929 - val_accuracy: 0.9750\n",
      "Epoch 8/100\n",
      "1500/1500 [==============================] - 2s 2ms/step - loss: 0.0016 - accuracy: 0.9995 - val_loss: 0.2668 - val_accuracy: 0.9769\n",
      "Epoch 9/100\n",
      "1500/1500 [==============================] - 2s 1ms/step - loss: 9.1706e-05 - accuracy: 1.0000 - val_loss: 0.2697 - val_accuracy: 0.9773\n",
      "Epoch 10/100\n",
      "1500/1500 [==============================] - 2s 1ms/step - loss: 1.5468e-05 - accuracy: 1.0000 - val_loss: 0.2621 - val_accuracy: 0.9782\n",
      "Epoch 11/100\n",
      "1500/1500 [==============================] - 2s 1ms/step - loss: 2.7739e-06 - accuracy: 1.0000 - val_loss: 0.2607 - val_accuracy: 0.9777\n",
      "Epoch 12/100\n",
      "1500/1500 [==============================] - 2s 1ms/step - loss: 1.4891e-06 - accuracy: 1.0000 - val_loss: 0.2601 - val_accuracy: 0.9778\n",
      "Epoch 13/100\n",
      "1500/1500 [==============================] - 2s 1ms/step - loss: 9.8019e-07 - accuracy: 1.0000 - val_loss: 0.2598 - val_accuracy: 0.9783\n",
      "Epoch 14/100\n",
      "1500/1500 [==============================] - 2s 1ms/step - loss: 6.6786e-07 - accuracy: 1.0000 - val_loss: 0.2594 - val_accuracy: 0.9783\n",
      "Epoch 15/100\n",
      "1500/1500 [==============================] - 2s 1ms/step - loss: 7.0825e-07 - accuracy: 1.0000 - val_loss: 0.2649 - val_accuracy: 0.9779\n",
      "Epoch 16/100\n",
      "1500/1500 [==============================] - 2s 1ms/step - loss: 0.0079 - accuracy: 0.9980 - val_loss: 0.2830 - val_accuracy: 0.9770\n",
      "Epoch 17/100\n",
      "1500/1500 [==============================] - 2s 2ms/step - loss: 6.1582e-04 - accuracy: 0.9999 - val_loss: 0.2743 - val_accuracy: 0.9772\n",
      "Epoch 18/100\n",
      "1500/1500 [==============================] - 2s 1ms/step - loss: 1.2147e-04 - accuracy: 1.0000 - val_loss: 0.2784 - val_accuracy: 0.9774\n",
      "Epoch 19/100\n",
      "1500/1500 [==============================] - 2s 1ms/step - loss: 0.0031 - accuracy: 0.9992 - val_loss: 0.3107 - val_accuracy: 0.9758\n",
      "Epoch 20/100\n",
      "1500/1500 [==============================] - 2s 1ms/step - loss: 0.0021 - accuracy: 0.9993 - val_loss: 0.2973 - val_accuracy: 0.9761\n",
      "Epoch 21/100\n",
      "1500/1500 [==============================] - 2s 1ms/step - loss: 8.1628e-04 - accuracy: 0.9996 - val_loss: 0.3129 - val_accuracy: 0.9753\n",
      "Epoch 22/100\n",
      "1500/1500 [==============================] - 2s 1ms/step - loss: 0.0010 - accuracy: 0.9998 - val_loss: 0.2937 - val_accuracy: 0.9764\n",
      "Epoch 23/100\n",
      "1500/1500 [==============================] - 2s 1ms/step - loss: 0.0040 - accuracy: 0.9990 - val_loss: 0.3137 - val_accuracy: 0.9745\n",
      "Epoch 24/100\n",
      "1500/1500 [==============================] - 2s 1ms/step - loss: 0.0010 - accuracy: 0.9996 - val_loss: 0.2947 - val_accuracy: 0.9763\n",
      "Epoch 25/100\n",
      "1500/1500 [==============================] - 2s 1ms/step - loss: 0.0031 - accuracy: 0.9991 - val_loss: 0.3130 - val_accuracy: 0.9750\n",
      "Epoch 26/100\n",
      "1500/1500 [==============================] - 2s 1ms/step - loss: 0.0016 - accuracy: 0.9995 - val_loss: 0.2970 - val_accuracy: 0.9766\n",
      "Epoch 27/100\n",
      "1500/1500 [==============================] - 2s 1ms/step - loss: 0.0015 - accuracy: 0.9995 - val_loss: 0.3078 - val_accuracy: 0.9767\n",
      "Epoch 28/100\n",
      "1500/1500 [==============================] - 2s 1ms/step - loss: 0.0013 - accuracy: 0.9996 - val_loss: 0.3027 - val_accuracy: 0.9756\n",
      "Epoch 29/100\n",
      "1500/1500 [==============================] - 2s 1ms/step - loss: 0.0013 - accuracy: 0.9996 - val_loss: 0.3190 - val_accuracy: 0.9761\n",
      "Epoch 30/100\n",
      "1500/1500 [==============================] - 2s 1ms/step - loss: 0.0027 - accuracy: 0.9993 - val_loss: 0.3198 - val_accuracy: 0.9761\n",
      "Epoch 31/100\n",
      "1500/1500 [==============================] - 2s 1ms/step - loss: 0.0015 - accuracy: 0.9996 - val_loss: 0.3246 - val_accuracy: 0.9753\n",
      "Epoch 32/100\n",
      "1500/1500 [==============================] - 2s 1ms/step - loss: 0.0013 - accuracy: 0.9997 - val_loss: 0.3264 - val_accuracy: 0.9768\n",
      "Epoch 33/100\n",
      "1500/1500 [==============================] - 2s 1ms/step - loss: 0.0018 - accuracy: 0.9996 - val_loss: 0.3660 - val_accuracy: 0.9711\n",
      "Epoch 34/100\n",
      "1500/1500 [==============================] - 2s 1ms/step - loss: 0.0021 - accuracy: 0.9992 - val_loss: 0.3147 - val_accuracy: 0.9761\n",
      "Epoch 35/100\n",
      "1500/1500 [==============================] - 2s 1ms/step - loss: 0.0011 - accuracy: 0.9997 - val_loss: 0.3314 - val_accuracy: 0.9744\n",
      "Epoch 36/100\n",
      "1500/1500 [==============================] - 2s 1ms/step - loss: 0.0013 - accuracy: 0.9996 - val_loss: 0.3296 - val_accuracy: 0.9747\n",
      "Epoch 37/100\n",
      "1500/1500 [==============================] - 2s 1ms/step - loss: 9.5475e-04 - accuracy: 0.9997 - val_loss: 0.3386 - val_accuracy: 0.9735\n",
      "Epoch 38/100\n",
      "1500/1500 [==============================] - 2s 1ms/step - loss: 7.1990e-04 - accuracy: 0.9999 - val_loss: 0.3145 - val_accuracy: 0.9767\n",
      "Epoch 39/100\n",
      "1500/1500 [==============================] - 2s 1ms/step - loss: 0.0020 - accuracy: 0.9995 - val_loss: 0.3673 - val_accuracy: 0.9739\n",
      "Epoch 40/100\n",
      "1500/1500 [==============================] - 2s 1ms/step - loss: 0.0021 - accuracy: 0.9993 - val_loss: 0.3430 - val_accuracy: 0.9757\n",
      "Epoch 41/100\n",
      "1500/1500 [==============================] - 2s 1ms/step - loss: 0.0029 - accuracy: 0.9993 - val_loss: 0.3483 - val_accuracy: 0.9723\n",
      "Epoch 42/100\n",
      "1500/1500 [==============================] - 2s 1ms/step - loss: 8.3169e-04 - accuracy: 0.9998 - val_loss: 0.3240 - val_accuracy: 0.9747\n",
      "Epoch 43/100\n",
      "1500/1500 [==============================] - 2s 1ms/step - loss: 0.0011 - accuracy: 0.9997 - val_loss: 0.3204 - val_accuracy: 0.9766\n",
      "Epoch 44/100\n",
      "1500/1500 [==============================] - 2s 1ms/step - loss: 0.0023 - accuracy: 0.9993 - val_loss: 0.3372 - val_accuracy: 0.9768\n",
      "Epoch 45/100\n",
      "1500/1500 [==============================] - 2s 1ms/step - loss: 0.0012 - accuracy: 0.9996 - val_loss: 0.3306 - val_accuracy: 0.9765\n",
      "Epoch 46/100\n",
      "1500/1500 [==============================] - 2s 1ms/step - loss: 1.9897e-04 - accuracy: 1.0000 - val_loss: 0.3275 - val_accuracy: 0.9758\n",
      "Epoch 47/100\n",
      "1500/1500 [==============================] - 2s 2ms/step - loss: 6.6237e-04 - accuracy: 0.9998 - val_loss: 0.3433 - val_accuracy: 0.9763\n",
      "Epoch 48/100\n",
      "1500/1500 [==============================] - 2s 1ms/step - loss: 0.0036 - accuracy: 0.9989 - val_loss: 0.3509 - val_accuracy: 0.9758\n",
      "Epoch 49/100\n",
      "1500/1500 [==============================] - 2s 1ms/step - loss: 0.0014 - accuracy: 0.9997 - val_loss: 0.3448 - val_accuracy: 0.9756\n",
      "Epoch 50/100\n",
      "1500/1500 [==============================] - 2s 1ms/step - loss: 0.0019 - accuracy: 0.9996 - val_loss: 0.3524 - val_accuracy: 0.9765\n",
      "Epoch 51/100\n",
      "1500/1500 [==============================] - 2s 1ms/step - loss: 0.0014 - accuracy: 0.9996 - val_loss: 0.3559 - val_accuracy: 0.9761\n",
      "Epoch 52/100\n",
      "1500/1500 [==============================] - 2s 1ms/step - loss: 5.4865e-04 - accuracy: 0.9999 - val_loss: 0.3596 - val_accuracy: 0.9742\n",
      "Epoch 53/100\n",
      "1500/1500 [==============================] - 2s 2ms/step - loss: 3.7065e-05 - accuracy: 1.0000 - val_loss: 0.3439 - val_accuracy: 0.9753\n",
      "Epoch 54/100\n",
      "1500/1500 [==============================] - 2s 1ms/step - loss: 6.2772e-06 - accuracy: 1.0000 - val_loss: 0.3443 - val_accuracy: 0.9764\n",
      "Epoch 55/100\n",
      "1500/1500 [==============================] - 2s 1ms/step - loss: 8.7136e-07 - accuracy: 1.0000 - val_loss: 0.3424 - val_accuracy: 0.9762\n",
      "Epoch 56/100\n"
     ]
    },
    {
     "name": "stdout",
     "output_type": "stream",
     "text": [
      "1500/1500 [==============================] - 2s 1ms/step - loss: 3.7308e-07 - accuracy: 1.0000 - val_loss: 0.3416 - val_accuracy: 0.9764\n",
      "Epoch 57/100\n",
      "1500/1500 [==============================] - 2s 1ms/step - loss: 2.2918e-07 - accuracy: 1.0000 - val_loss: 0.3409 - val_accuracy: 0.9768\n",
      "Epoch 58/100\n",
      "1500/1500 [==============================] - 2s 1ms/step - loss: 1.4775e-07 - accuracy: 1.0000 - val_loss: 0.3400 - val_accuracy: 0.9771\n",
      "Epoch 59/100\n",
      "1500/1500 [==============================] - 2s 1ms/step - loss: 9.5731e-08 - accuracy: 1.0000 - val_loss: 0.3395 - val_accuracy: 0.9768\n",
      "Epoch 60/100\n",
      "1500/1500 [==============================] - 2s 1ms/step - loss: 6.3655e-08 - accuracy: 1.0000 - val_loss: 0.3391 - val_accuracy: 0.9770\n",
      "Epoch 61/100\n",
      "1500/1500 [==============================] - 2s 1ms/step - loss: 4.2307e-08 - accuracy: 1.0000 - val_loss: 0.3383 - val_accuracy: 0.9769\n",
      "Epoch 62/100\n",
      "1500/1500 [==============================] - 2s 1ms/step - loss: 2.8076e-08 - accuracy: 1.0000 - val_loss: 0.3388 - val_accuracy: 0.9770\n",
      "Epoch 63/100\n",
      "1500/1500 [==============================] - 2s 1ms/step - loss: 1.9682e-08 - accuracy: 1.0000 - val_loss: 0.3386 - val_accuracy: 0.9772\n",
      "Epoch 64/100\n",
      "1500/1500 [==============================] - 2s 1ms/step - loss: 1.3811e-08 - accuracy: 1.0000 - val_loss: 0.3392 - val_accuracy: 0.9775\n",
      "Epoch 65/100\n",
      "1500/1500 [==============================] - 2s 1ms/step - loss: 8.7221e-09 - accuracy: 1.0000 - val_loss: 0.3403 - val_accuracy: 0.9771\n",
      "Epoch 66/100\n",
      "1500/1500 [==============================] - 2s 1ms/step - loss: 7.0135e-09 - accuracy: 1.0000 - val_loss: 0.3425 - val_accuracy: 0.9772\n",
      "Epoch 67/100\n",
      "1500/1500 [==============================] - 2s 1ms/step - loss: 4.9770e-09 - accuracy: 1.0000 - val_loss: 0.3419 - val_accuracy: 0.9770\n",
      "Epoch 68/100\n",
      "1500/1500 [==============================] - 2s 1ms/step - loss: 3.9587e-09 - accuracy: 1.0000 - val_loss: 0.3429 - val_accuracy: 0.9772\n",
      "Epoch 69/100\n",
      "1500/1500 [==============================] - 2s 1ms/step - loss: 3.2807e-09 - accuracy: 1.0000 - val_loss: 0.3437 - val_accuracy: 0.9772\n",
      "Epoch 70/100\n",
      "1500/1500 [==============================] - 2s 1ms/step - loss: 2.6052e-09 - accuracy: 1.0000 - val_loss: 0.3437 - val_accuracy: 0.9771\n",
      "Epoch 71/100\n",
      "1500/1500 [==============================] - 2s 1ms/step - loss: 2.3345e-09 - accuracy: 1.0000 - val_loss: 0.3444 - val_accuracy: 0.9773\n",
      "Epoch 72/100\n",
      "1500/1500 [==============================] - 2s 1ms/step - loss: 2.0936e-09 - accuracy: 1.0000 - val_loss: 0.3442 - val_accuracy: 0.9772\n",
      "Epoch 73/100\n",
      "1500/1500 [==============================] - 2s 1ms/step - loss: 1.8403e-09 - accuracy: 1.0000 - val_loss: 0.3450 - val_accuracy: 0.9776\n",
      "Epoch 74/100\n",
      "1500/1500 [==============================] - 2s 1ms/step - loss: 1.6342e-09 - accuracy: 1.0000 - val_loss: 0.3455 - val_accuracy: 0.9774\n",
      "Epoch 75/100\n",
      "1500/1500 [==============================] - 2s 1ms/step - loss: 1.5249e-09 - accuracy: 1.0000 - val_loss: 0.3456 - val_accuracy: 0.9776\n",
      "Epoch 76/100\n",
      "1500/1500 [==============================] - 2s 1ms/step - loss: 1.3908e-09 - accuracy: 1.0000 - val_loss: 0.3458 - val_accuracy: 0.9777\n",
      "Epoch 77/100\n",
      "1500/1500 [==============================] - 2s 1ms/step - loss: 1.2840e-09 - accuracy: 1.0000 - val_loss: 0.3460 - val_accuracy: 0.9777\n",
      "Epoch 78/100\n",
      "1500/1500 [==============================] - 2s 1ms/step - loss: 1.1871e-09 - accuracy: 1.0000 - val_loss: 0.3462 - val_accuracy: 0.9776\n",
      "Epoch 79/100\n",
      "1500/1500 [==============================] - 2s 1ms/step - loss: 1.1052e-09 - accuracy: 1.0000 - val_loss: 0.3465 - val_accuracy: 0.9776\n",
      "Epoch 80/100\n",
      "1500/1500 [==============================] - 2s 2ms/step - loss: 1.0654e-09 - accuracy: 1.0000 - val_loss: 0.3467 - val_accuracy: 0.9773\n",
      "Epoch 81/100\n",
      "1500/1500 [==============================] - 2s 1ms/step - loss: 1.0033e-09 - accuracy: 1.0000 - val_loss: 0.3468 - val_accuracy: 0.9778\n",
      "Epoch 82/100\n",
      "1500/1500 [==============================] - 2s 1ms/step - loss: 9.4871e-10 - accuracy: 1.0000 - val_loss: 0.3469 - val_accuracy: 0.9778\n",
      "Epoch 83/100\n",
      "1500/1500 [==============================] - 2s 1ms/step - loss: 8.9407e-10 - accuracy: 1.0000 - val_loss: 0.3474 - val_accuracy: 0.9775\n",
      "Epoch 84/100\n",
      "1500/1500 [==============================] - 2s 1ms/step - loss: 8.4192e-10 - accuracy: 1.0000 - val_loss: 0.3474 - val_accuracy: 0.9778\n",
      "Epoch 85/100\n",
      "1500/1500 [==============================] - 2s 2ms/step - loss: 8.2453e-10 - accuracy: 1.0000 - val_loss: 0.3477 - val_accuracy: 0.9776\n",
      "Epoch 86/100\n",
      "1500/1500 [==============================] - 2s 1ms/step - loss: 7.5499e-10 - accuracy: 1.0000 - val_loss: 0.3476 - val_accuracy: 0.9775\n",
      "Epoch 87/100\n",
      "1500/1500 [==============================] - 2s 1ms/step - loss: 7.7238e-10 - accuracy: 1.0000 - val_loss: 0.3477 - val_accuracy: 0.9779\n",
      "Epoch 88/100\n",
      "1500/1500 [==============================] - 2s 1ms/step - loss: 7.0532e-10 - accuracy: 1.0000 - val_loss: 0.3481 - val_accuracy: 0.9778\n",
      "Epoch 89/100\n",
      "1500/1500 [==============================] - 2s 1ms/step - loss: 7.1277e-10 - accuracy: 1.0000 - val_loss: 0.3482 - val_accuracy: 0.9776\n",
      "Epoch 90/100\n",
      "1500/1500 [==============================] - 2s 1ms/step - loss: 6.5813e-10 - accuracy: 1.0000 - val_loss: 0.3481 - val_accuracy: 0.9775\n",
      "Epoch 91/100\n",
      "1500/1500 [==============================] - 2s 1ms/step - loss: 6.3330e-10 - accuracy: 1.0000 - val_loss: 0.3483 - val_accuracy: 0.9777\n",
      "Epoch 92/100\n",
      "1500/1500 [==============================] - 2s 1ms/step - loss: 6.4075e-10 - accuracy: 1.0000 - val_loss: 0.3486 - val_accuracy: 0.9778\n",
      "Epoch 93/100\n",
      "1500/1500 [==============================] - 2s 1ms/step - loss: 5.8115e-10 - accuracy: 1.0000 - val_loss: 0.3487 - val_accuracy: 0.9777\n",
      "Epoch 94/100\n",
      "1500/1500 [==============================] - 2s 1ms/step - loss: 5.7618e-10 - accuracy: 1.0000 - val_loss: 0.3487 - val_accuracy: 0.9777\n",
      "Epoch 95/100\n",
      "1500/1500 [==============================] - 2s 1ms/step - loss: 5.3644e-10 - accuracy: 1.0000 - val_loss: 0.3488 - val_accuracy: 0.9777\n",
      "Epoch 96/100\n",
      "1500/1500 [==============================] - 2s 1ms/step - loss: 5.4141e-10 - accuracy: 1.0000 - val_loss: 0.3490 - val_accuracy: 0.9777\n",
      "Epoch 97/100\n",
      "1500/1500 [==============================] - 2s 1ms/step - loss: 5.4389e-10 - accuracy: 1.0000 - val_loss: 0.3490 - val_accuracy: 0.9777\n",
      "Epoch 98/100\n",
      "1500/1500 [==============================] - 2s 1ms/step - loss: 5.0912e-10 - accuracy: 1.0000 - val_loss: 0.3495 - val_accuracy: 0.9776\n",
      "Epoch 99/100\n",
      "1500/1500 [==============================] - 2s 1ms/step - loss: 4.7187e-10 - accuracy: 1.0000 - val_loss: 0.3494 - val_accuracy: 0.9776\n",
      "Epoch 100/100\n",
      "1500/1500 [==============================] - 2s 2ms/step - loss: 4.9919e-10 - accuracy: 1.0000 - val_loss: 0.3497 - val_accuracy: 0.9775\n"
     ]
    }
   ],
   "source": [
    "history=model.fit(X_train_scaled,Y_train,epochs=100,validation_split=0.2,)"
   ]
  },
  {
   "cell_type": "code",
   "execution_count": 30,
   "id": "ced4837b",
   "metadata": {},
   "outputs": [
    {
     "name": "stdout",
     "output_type": "stream",
     "text": [
      "313/313 [==============================] - 0s 753us/step\n"
     ]
    },
    {
     "data": {
      "text/plain": [
       "array([[2.9436648e-29, 1.9651789e-37, 2.7726652e-24, ..., 1.0000000e+00,\n",
       "        3.6510759e-21, 7.3182537e-15],\n",
       "       [5.7834844e-35, 7.8853318e-19, 1.0000000e+00, ..., 0.0000000e+00,\n",
       "        6.9013146e-25, 0.0000000e+00],\n",
       "       [3.6481799e-21, 1.0000000e+00, 2.6394792e-14, ..., 6.2138787e-13,\n",
       "        8.7562024e-14, 1.1736352e-24],\n",
       "       ...,\n",
       "       [0.0000000e+00, 1.9633508e-37, 0.0000000e+00, ..., 4.0959189e-25,\n",
       "        1.2203002e-30, 1.2833991e-22],\n",
       "       [0.0000000e+00, 0.0000000e+00, 0.0000000e+00, ..., 0.0000000e+00,\n",
       "        2.6656690e-27, 0.0000000e+00],\n",
       "       [0.0000000e+00, 0.0000000e+00, 0.0000000e+00, ..., 0.0000000e+00,\n",
       "        0.0000000e+00, 0.0000000e+00]], dtype=float32)"
      ]
     },
     "execution_count": 30,
     "metadata": {},
     "output_type": "execute_result"
    }
   ],
   "source": [
    "model.predict(X_test_scaled)"
   ]
  },
  {
   "cell_type": "markdown",
   "id": "c3f1aa42",
   "metadata": {},
   "source": [
    "for each image it is giving probability value for each class"
   ]
  },
  {
   "cell_type": "code",
   "execution_count": 31,
   "id": "c71ecfd3",
   "metadata": {},
   "outputs": [
    {
     "name": "stdout",
     "output_type": "stream",
     "text": [
      "313/313 [==============================] - 0s 756us/step\n"
     ]
    }
   ],
   "source": [
    "y_prob=model.predict(X_test_scaled)"
   ]
  },
  {
   "cell_type": "code",
   "execution_count": 32,
   "id": "3fb7ef86",
   "metadata": {},
   "outputs": [],
   "source": [
    "Y_pred=y_prob.argmax(axis=1)"
   ]
  },
  {
   "cell_type": "code",
   "execution_count": 35,
   "id": "d348cc99",
   "metadata": {},
   "outputs": [
    {
     "data": {
      "text/plain": [
       "array([7, 2, 1, ..., 4, 5, 6], dtype=int64)"
      ]
     },
     "execution_count": 35,
     "metadata": {},
     "output_type": "execute_result"
    }
   ],
   "source": [
    "Y_pred"
   ]
  },
  {
   "cell_type": "code",
   "execution_count": 37,
   "id": "091c2550",
   "metadata": {},
   "outputs": [
    {
     "data": {
      "text/plain": [
       "0.9803"
      ]
     },
     "execution_count": 37,
     "metadata": {},
     "output_type": "execute_result"
    }
   ],
   "source": [
    "from sklearn.metrics import accuracy_score\n",
    "accuracy_score(Y_test,Y_pred)"
   ]
  },
  {
   "cell_type": "code",
   "execution_count": 39,
   "id": "e7fa06f3",
   "metadata": {},
   "outputs": [
    {
     "data": {
      "text/plain": [
       "dict_keys(['loss', 'accuracy', 'val_loss', 'val_accuracy'])"
      ]
     },
     "execution_count": 39,
     "metadata": {},
     "output_type": "execute_result"
    }
   ],
   "source": [
    "history.history.keys()"
   ]
  },
  {
   "cell_type": "code",
   "execution_count": 44,
   "id": "db25521e",
   "metadata": {},
   "outputs": [
    {
     "data": {
      "text/plain": [
       "(-1.0, 1.0)"
      ]
     },
     "execution_count": 44,
     "metadata": {},
     "output_type": "execute_result"
    },
    {
     "data": {
      "image/png": "[encoded data removed]",
      "text/plain": [
       "<Figure size 640x480 with 1 Axes>"
      ]
     },
     "metadata": {},
     "output_type": "display_data"
    }
   ],
   "source": [
    "plt.plot(history.history[\"loss\"])\n",
    "plt.plot(history.history[\"val_loss\"])\n",
    "plt.ylim(-1,1)"
   ]
  },
  {
   "cell_type": "code",
   "execution_count": 49,
   "id": "95dbf9f5",
   "metadata": {},
   "outputs": [
    {
     "data": {
      "text/plain": [
       "(0.0, 2.0)"
      ]
     },
     "execution_count": 49,
     "metadata": {},
     "output_type": "execute_result"
    },
    {
     "data": {
      "image/png": "[encoded data removed]",
      "text/plain": [
       "<Figure size 640x480 with 1 Axes>"
      ]
     },
     "metadata": {},
     "output_type": "display_data"
    }
   ],
   "source": [
    "plt.plot(history.history[\"accuracy\"])\n",
    "plt.plot(history.history[\"val_accuracy\"])\n",
    "plt.ylim(0,2)"
   ]
  },
  {
   "cell_type": "code",
   "execution_count": 50,
   "id": "8c68d485",
   "metadata": {},
   "outputs": [
    {
     "data": {
      "text/plain": [
       "<matplotlib.image.AxesImage at 0x23173c9a590>"
      ]
     },
     "execution_count": 50,
     "metadata": {},
     "output_type": "execute_result"
    },
    {
     "data": {
      "image/png": "[encoded data removed]",
      "text/plain": [
       "<Figure size 640x480 with 1 Axes>"
      ]
     },
     "metadata": {},
     "output_type": "display_data"
    }
   ],
   "source": [
    "plt.imshow(X_test_scaled[1])"
   ]
  },
  {
   "cell_type": "code",
   "execution_count": 55,
   "id": "c1f88d7b",
   "metadata": {},
   "outputs": [
    {
     "name": "stdout",
     "output_type": "stream",
     "text": [
      "1/1 [==============================] - 0s 18ms/step\n"
     ]
    },
    {
     "data": {
      "text/plain": [
       "array([2], dtype=int64)"
      ]
     },
     "execution_count": 55,
     "metadata": {},
     "output_type": "execute_result"
    }
   ],
   "source": [
    "model.predict(X_test_scaled[1].reshape(1,28,28)).argmax(axis=1)"
   ]
  }
 ],
 "metadata": {
  "kernelspec": {
   "display_name": "Python 3 (ipykernel)",
   "language": "python",
   "name": "python3"
  },
  "language_info": {
   "codemirror_mode": {
    "name": "ipython",
    "version": 3
   },
   "file_extension": ".py",
   "mimetype": "text/x-python",
   "name": "python",
   "nbconvert_exporter": "python",
   "pygments_lexer": "ipython3",
   "version": "3.11.5"
  }
 },
 "nbformat": 4,
 "nbformat_minor": 5
}
